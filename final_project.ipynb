{
 "cells": [
  {
   "cell_type": "code",
   "execution_count": 2,
   "metadata": {},
   "outputs": [
    {
     "name": "stdout",
     "output_type": "stream",
     "text": [
      "(515345, 91)\n"
     ]
    }
   ],
   "source": [
    "import numpy as np\n",
    "import os\n",
    "from src.run_model import run_model\n",
    "from src.my_dataset import MyDataset\n",
    "import matplotlib.pyplot as plt\n",
    "import torch\n",
    "import torch.nn as nn\n",
    "import torch.nn.functional as F\n",
    "from sklearn.cluster import KMeans\n",
    "from sklearn.mixture import GaussianMixture\n",
    "\n",
    "try:\n",
    "    import matplotlib.pyplot as plt\n",
    "except:\n",
    "    import matplotlib\n",
    "    matplotlib.use('Agg')\n",
    "    import matplotlib.pyplot as plt\n",
    "\n",
    "base = '/Users/jacobwit/Documents/GitHub/CS-349/final-project'\n",
    "data_path = os.path.join(base, 'YearPredictionMSD.txt')\n",
    "all_data = np.loadtxt(data_path, delimiter=',')\n",
    "print(np.shape(all_data))"
   ]
  },
  {
   "cell_type": "code",
   "execution_count": 3,
   "metadata": {
    "pycharm": {
     "name": "#%%\n"
    }
   },
   "outputs": [],
   "source": [
    "train_years = all_data[:463715, 0]\n",
    "test_years = all_data[463715:, 0]\n",
    "train_attributes = all_data[:463715, 1:]\n",
    "test_attributes = all_data[463715:, 1:]\n",
    "values = np.unique(all_data[:,0])\n"
   ]
  },
  {
   "cell_type": "code",
   "execution_count": 4,
   "metadata": {
    "pycharm": {
     "name": "#%%\n"
    }
   },
   "outputs": [
    {
     "name": "stdout",
     "output_type": "stream",
     "text": [
      "Kmeans accuracy\n",
      "0.08543482471431338\n",
      "Within 3 years accuracy\n",
      "0.4165020337013364\n"
     ]
    }
   ],
   "source": [
    "# Kmeans experiment\n",
    "kmeans_fitter = KMeans(n_clusters=89).fit(train_attributes)\n",
    "k_a = kmeans_fitter.predict(test_attributes)\n",
    "k_means_clusters = {}\n",
    "for i in range(k_a.shape[0]):\n",
    "    actual_year = test_years[i]\n",
    "    given_label = k_a[i]\n",
    "    if given_label in k_means_clusters:\n",
    "        k_means_clusters[given_label].append(actual_year)\n",
    "    else:\n",
    "        k_means_clusters[given_label] = [actual_year]\n",
    "for cluster in k_means_clusters:\n",
    "    k_means_clusters[cluster] = np.array(k_means_clusters[cluster])\n",
    "\n",
    "total_correct = 0\n",
    "total = 0\n",
    "within_3_years = 0\n",
    "for cluster in k_means_clusters:\n",
    "    values, counts = np.unique(k_means_clusters[cluster], return_counts=True)\n",
    "    most_common_value = values[np.argmax(counts)]\n",
    "    for i in range(k_means_clusters[cluster].shape[0]):\n",
    "        if k_means_clusters[cluster][i] == most_common_value:\n",
    "            total_correct += 1\n",
    "            within_3_years += 1\n",
    "        elif np.abs((most_common_value - k_means_clusters[cluster][i])) <= 3:\n",
    "            within_3_years += 1\n",
    "        total += 1\n",
    "print(\"Kmeans accuracy\")\n",
    "print(total_correct / total)\n",
    "print(\"Within 3 years accuracy\")\n",
    "print(within_3_years / total)"
   ]
  },
  {
   "cell_type": "code",
   "execution_count": 5,
   "metadata": {
    "pycharm": {
     "name": "#%%\n"
    }
   },
   "outputs": [
    {
     "name": "stdout",
     "output_type": "stream",
     "text": [
      "Kmeans decade accuracy\n",
      "0.5807476273484409\n"
     ]
    }
   ],
   "source": [
    "## decades experiment\n",
    "train_decades = np.zeros(train_years.shape[0])\n",
    "for i in range(train_years.shape[0]):\n",
    "    current_year = train_years[i]\n",
    "    if current_year <= 1929:\n",
    "        train_decades[i] = 1\n",
    "    elif current_year <= 1939:\n",
    "        train_decades[i] = 2\n",
    "    elif current_year <= 1949:\n",
    "        train_decades[i] = 3\n",
    "    elif current_year <= 1959:\n",
    "        train_decades[i] = 4\n",
    "    elif current_year <= 1969:\n",
    "        train_decades[i] = 5\n",
    "    elif current_year <= 1979:\n",
    "        train_decades[i] = 6\n",
    "    elif current_year <= 1989:\n",
    "        train_decades[i] = 7\n",
    "    elif current_year <= 1999:\n",
    "        train_decades[i] = 8\n",
    "    elif current_year <= 2009:\n",
    "        train_decades[i] = 9\n",
    "    else:\n",
    "        train_decades[i] = 10\n",
    "\n",
    "test_decades = np.zeros(test_years.shape[0])\n",
    "for i in range(test_years.shape[0]):\n",
    "    current_year = train_years[i]\n",
    "    if current_year <= 1929:\n",
    "        test_decades[i] = 1\n",
    "    elif current_year <= 1939:\n",
    "        test_decades[i] = 2\n",
    "    elif current_year <= 1949:\n",
    "        test_decades[i] = 3\n",
    "    elif current_year <= 1959:\n",
    "        test_decades[i] = 4\n",
    "    elif current_year <= 1969:\n",
    "        test_decades[i] = 5\n",
    "    elif current_year <= 1979:\n",
    "        test_decades[i] = 6\n",
    "    elif current_year <= 1989:\n",
    "        test_decades[i] = 7\n",
    "    elif current_year <= 1999:\n",
    "        test_decades[i] = 8\n",
    "    elif current_year <= 2009:\n",
    "        test_decades[i] = 9\n",
    "    else:\n",
    "        test_decades[i] = 10\n",
    "\n",
    "kmeans_decades_fitter = KMeans(n_clusters=10).fit(train_attributes)\n",
    "decade_predictions = kmeans_decades_fitter.predict(test_attributes)\n",
    "\n",
    "k_means_decades_clusters = {}\n",
    "for i in range(decade_predictions.shape[0]):\n",
    "    actual_decade = test_decades[i]\n",
    "    given_label = decade_predictions[i]\n",
    "    if given_label in k_means_decades_clusters:\n",
    "        k_means_decades_clusters[given_label].append(actual_decade)\n",
    "    else:\n",
    "        k_means_decades_clusters[given_label] = [actual_decade]\n",
    "for cluster in k_means_decades_clusters:\n",
    "    k_means_decades_clusters[cluster] = np.array(k_means_decades_clusters[cluster])\n",
    "\n",
    "total_correct = 0\n",
    "total = 0\n",
    "\n",
    "for cluster in k_means_decades_clusters:\n",
    "    values, counts = np.unique(k_means_decades_clusters[cluster], return_counts=True)\n",
    "    most_common_value = values[np.argmax(counts)]\n",
    "    for i in range(k_means_decades_clusters[cluster].shape[0]):\n",
    "        if k_means_decades_clusters[cluster][i] == most_common_value:\n",
    "            total_correct += 1\n",
    "        total += 1\n",
    "print(\"Kmeans decade accuracy\")\n",
    "print(total_correct / total)\n"
   ]
  },
  {
   "cell_type": "code",
   "execution_count": 6,
   "metadata": {
    "pycharm": {
     "name": "#%%\n"
    }
   },
   "outputs": [],
   "source": [
    "#changing means experiments\n",
    "num_means = np.array([2, 3, 5, 10, 15, 20, 30, 40, 50, 60, 70, 80])\n",
    "accuracies = []\n",
    "\n",
    "for i in range(num_means.shape[0]):\n",
    "    means = num_means[i]\n",
    "    #reclassified_train_years = np.floor(((train_years - 1922) / (89 / means)))\n",
    "    reclassified_train_years = np.floor(train_years - 1922)\n",
    "    factor = 89 / means\n",
    "    reclassified_train_years = np.floor(reclassified_train_years / factor)\n",
    "    reclassified_test_years = test_years - 1922\n",
    "    reclassified_test_years = np.floor(reclassified_test_years / factor)\n",
    "    classifier = KMeans(n_clusters=means).fit(train_attributes)\n",
    "    predictions = classifier.predict(test_attributes)\n",
    "    clusters = {}\n",
    "    for j in range(predictions.shape[0]):\n",
    "        actual_class = reclassified_test_years[j]\n",
    "        given_class = predictions[j]\n",
    "        if given_class in clusters:\n",
    "            clusters[given_class].append(actual_class)\n",
    "        else:\n",
    "            clusters[given_class] = [actual_class]\n",
    "    for cluster in clusters:\n",
    "        clusters[cluster] = np.array(clusters[cluster])\n",
    "\n",
    "    correct = 0\n",
    "    total = 0\n",
    "    for cluster in clusters:\n",
    "        values, counts = np.unique(clusters[cluster], return_counts=True)\n",
    "        most_common_cluster = values[np.argmax(counts)]\n",
    "        for k in range(clusters[cluster].shape[0]):\n",
    "            if clusters[cluster][k] == most_common_cluster:\n",
    "                correct += 1\n",
    "            total += 1\n",
    "    accuracy = correct / total\n",
    "    accuracies.append(accuracy)\n",
    "\n",
    "\n",
    "\n",
    "\n",
    "\n"
   ]
  },
  {
   "cell_type": "code",
   "execution_count": 7,
   "metadata": {
    "pycharm": {
     "name": "#%%\n"
    }
   },
   "outputs": [
    {
     "data": {
      "image/png": "[encoded data removed]",
      "text/plain": [
       "<Figure size 432x288 with 1 Axes>"
      ]
     },
     "metadata": {
      "needs_background": "light"
     },
     "output_type": "display_data"
    }
   ],
   "source": [
    "accuracies = np.array(accuracies)\n",
    "plt.plot(num_means, accuracies)\n",
    "plt.xlabel('Num means')\n",
    "plt.ylabel('Accuracy')\n",
    "plt.title('Means vs Accuracy')\n",
    "plt.show()"
   ]
  }
 ],
 "metadata": {
  "kernelspec": {
   "display_name": "Python 3",
   "language": "python",
   "name": "python3"
  },
  "language_info": {
   "codemirror_mode": {
    "name": "ipython",
    "version": 3
   },
   "file_extension": ".py",
   "mimetype": "text/x-python",
   "name": "python",
   "nbconvert_exporter": "python",
   "pygments_lexer": "ipython3",
   "version": "3.8.10"
  }
 },
 "nbformat": 4,
 "nbformat_minor": 1
}